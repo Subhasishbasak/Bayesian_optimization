{
 "cells": [
  {
   "cell_type": "code",
   "execution_count": 1,
   "metadata": {},
   "outputs": [
    {
     "name": "stderr",
     "output_type": "stream",
     "text": [
      "/home/subhasish/anaconda3/lib/python3.6/site-packages/tensorflow/python/framework/dtypes.py:526: FutureWarning: Passing (type, 1) or '1type' as a synonym of type is deprecated; in a future version of numpy, it will be understood as (type, (1,)) / '(1,)type'.\n",
      "  _np_qint8 = np.dtype([(\"qint8\", np.int8, 1)])\n",
      "/home/subhasish/anaconda3/lib/python3.6/site-packages/tensorflow/python/framework/dtypes.py:527: FutureWarning: Passing (type, 1) or '1type' as a synonym of type is deprecated; in a future version of numpy, it will be understood as (type, (1,)) / '(1,)type'.\n",
      "  _np_quint8 = np.dtype([(\"quint8\", np.uint8, 1)])\n",
      "/home/subhasish/anaconda3/lib/python3.6/site-packages/tensorflow/python/framework/dtypes.py:528: FutureWarning: Passing (type, 1) or '1type' as a synonym of type is deprecated; in a future version of numpy, it will be understood as (type, (1,)) / '(1,)type'.\n",
      "  _np_qint16 = np.dtype([(\"qint16\", np.int16, 1)])\n",
      "/home/subhasish/anaconda3/lib/python3.6/site-packages/tensorflow/python/framework/dtypes.py:529: FutureWarning: Passing (type, 1) or '1type' as a synonym of type is deprecated; in a future version of numpy, it will be understood as (type, (1,)) / '(1,)type'.\n",
      "  _np_quint16 = np.dtype([(\"quint16\", np.uint16, 1)])\n",
      "/home/subhasish/anaconda3/lib/python3.6/site-packages/tensorflow/python/framework/dtypes.py:530: FutureWarning: Passing (type, 1) or '1type' as a synonym of type is deprecated; in a future version of numpy, it will be understood as (type, (1,)) / '(1,)type'.\n",
      "  _np_qint32 = np.dtype([(\"qint32\", np.int32, 1)])\n",
      "/home/subhasish/anaconda3/lib/python3.6/site-packages/tensorflow/python/framework/dtypes.py:535: FutureWarning: Passing (type, 1) or '1type' as a synonym of type is deprecated; in a future version of numpy, it will be understood as (type, (1,)) / '(1,)type'.\n",
      "  np_resource = np.dtype([(\"resource\", np.ubyte, 1)])\n"
     ]
    }
   ],
   "source": [
    "import numpy as np\n",
    "import pandas as pd\n",
    "import torch\n",
    "import torch.nn.functional as F\n",
    "import tensorflow as tf\n",
    "from tensorflow import keras\n"
   ]
  },
  {
   "cell_type": "code",
   "execution_count": 2,
   "metadata": {},
   "outputs": [],
   "source": [
    "import torch\n",
    "from torch.autograd import Variable\n",
    "import torch.nn.functional as F\n",
    "import torch.utils.data as Data\n",
    "\n",
    "import matplotlib.pyplot as plt\n",
    "%matplotlib inline\n",
    "\n",
    "import numpy as np\n",
    "# import imageio"
   ]
  },
  {
   "cell_type": "markdown",
   "metadata": {},
   "source": [
    "# Bayesian"
   ]
  },
  {
   "cell_type": "code",
   "execution_count": 111,
   "metadata": {},
   "outputs": [],
   "source": [
    "def f(x):\n",
    "    val = 2*x[0]+ x[1]\n",
    "    return val"
   ]
  },
  {
   "cell_type": "code",
   "execution_count": 112,
   "metadata": {},
   "outputs": [],
   "source": [
    "#defining the objective function \n",
    "\n",
    "def objective(X, target):\n",
    "    \n",
    "#     X = torch.tensor(X).float()\n",
    "#     X = X.cuda()\n",
    "#     res = net(X) - target\n",
    " \n",
    "    res = f(X) - target\n",
    "    #return f,net(x),target\n",
    "    return res \n",
    "\n",
    "\n",
    "X_init = [0,1]\n",
    "Y_init = f(X_init)\n",
    "target = 7.02"
   ]
  },
  {
   "cell_type": "code",
   "execution_count": 113,
   "metadata": {},
   "outputs": [],
   "source": [
    "#defining a random dummy hidden constraint function. \n",
    "###########################\n",
    "#TODO @ipsi : Actually we need to use LR modelling\n",
    "###########################\n",
    "\n",
    "def hidden(X):\n",
    "    \n",
    "    if np.random.uniform(0,1) > 0.5:\n",
    "        return 1\n",
    "    else:\n",
    "        return -1"
   ]
  },
  {
   "cell_type": "code",
   "execution_count": 114,
   "metadata": {},
   "outputs": [],
   "source": [
    "from scipy.stats import norm\n",
    "\n",
    "def expected_improvement(X, X_sample, Y_sample, gpr, gpr_h, xi=0.01):\n",
    "    '''\n",
    "    Computes the EI at points X based on existing samples X_sample\n",
    "    and Y_sample using a Gaussian process surrogate model.\n",
    "    \n",
    "    Args:\n",
    "        X: Points at which EI shall be computed (m x d).\n",
    "        X_sample: Sample locations (n x d).\n",
    "        Y_sample: Sample values (n x 1).\n",
    "        gpr: A GaussianProcessRegressor fitted to samples.\n",
    "        xi: Exploitation-exploration trade-off parameter.\n",
    "        **kwargs: GPR for modelling the hidden constraint values (arg name : 'gpr_h')\n",
    "    \n",
    "    Returns:\n",
    "        Expected improvements at points X.\n",
    "    '''\n",
    "    mu, sigma = gpr.predict(X, return_std=True)\n",
    "    mu_sample = gpr.predict(X_sample)\n",
    "\n",
    "    sigma = sigma.reshape(-1, 1)\n",
    "    \n",
    "    # Needed for noise-based model,\n",
    "    # otherwise use np.max(Y_sample).\n",
    "    # See also section 2.4 in [...]\n",
    "    mu_sample_opt = np.max(mu_sample)\n",
    "\n",
    "    #Computing the posterior mean and var for the hidden constraint\n",
    "    mu_h, sigma_h = gpr_h.predict(X, return_std=True)\n",
    "\n",
    "    sigma_h = sigma_h.reshape(-1, 1)\n",
    "\n",
    "\n",
    "    with np.errstate(divide='warn'):\n",
    "        imp = mu - mu_sample_opt - xi\n",
    "        Z = imp / sigma\n",
    "        ei = imp * norm.cdf(Z) + sigma * norm.pdf(Z)\n",
    "        ei[sigma == 0.0] = 0.0\n",
    "             \n",
    "        #Compting new acquisition function\n",
    "        ei = ei * norm.cdf(-mu_h/sigma_h)\n",
    "\n",
    "        \n",
    "    return ei"
   ]
  },
  {
   "cell_type": "code",
   "execution_count": 115,
   "metadata": {},
   "outputs": [],
   "source": [
    "from scipy.optimize import minimize\n",
    "\n",
    "def propose_location(acquisition, X_sample, Y_sample, gpr, gpr_h, bounds, n_restarts=25):\n",
    "    '''\n",
    "    Proposes the next sampling point by optimizing the acquisition function.\n",
    "    \n",
    "    Args:\n",
    "        acquisition: Acquisition function.\n",
    "        X_sample: Sample locations (n x d).\n",
    "        Y_sample: Sample values (n x 1).\n",
    "        gpr: A GaussianProcessRegressor fitted to samples.\n",
    "\n",
    "    Returns:\n",
    "        Location of the acquisition function maximum.\n",
    "    '''\n",
    "    dim = X_sample.shape[1]\n",
    "    min_val = 1\n",
    "    min_x = None\n",
    "    \n",
    "    def min_obj(X):\n",
    "        # Minimization objective is the negative acquisition function\n",
    "        return -acquisition(X.reshape(-1, dim), X_sample, Y_sample, gpr, gpr_h)\n",
    "    \n",
    "#     print(np.random.uniform(bounds[:, 0], bounds[:, 1], size=(n_restarts, dim)))\n",
    "    \n",
    "    # Find the best optimum by starting from n_restart different random points.\n",
    "    \n",
    "    for x0 in np.random.uniform(bounds[:, 0], bounds[:,1],size=(n_restarts, dim)):\n",
    "        \n",
    "        #print(len(x0))\n",
    "        res = minimize(min_obj, x0=x0, bounds=bounds, method='L-BFGS-B')        \n",
    "        if res.fun < min_val:\n",
    "            min_val = res.fun[0]\n",
    "            min_x = res.x           \n",
    "            \n",
    "    return min_x.reshape(-1, 1)"
   ]
  },
  {
   "cell_type": "code",
   "execution_count": 116,
   "metadata": {},
   "outputs": [],
   "source": [
    "import numpy as np"
   ]
  },
  {
   "cell_type": "code",
   "execution_count": 117,
   "metadata": {},
   "outputs": [],
   "source": [
    "from sklearn.gaussian_process import GaussianProcessRegressor\n",
    "from sklearn.gaussian_process.kernels import ConstantKernel, Matern\n"
   ]
  },
  {
   "cell_type": "code",
   "execution_count": 118,
   "metadata": {},
   "outputs": [],
   "source": [
    "def bayes_opt(model,x_init, y, h, bounds, n_iter = 100):\n",
    "    '''\n",
    "    model : the output from the neural network \n",
    "    x (list):the first 8 variables whose values are fixed\n",
    "    y (list): the target value \n",
    "    bounds (list of list): lower and upper bounds of the variables whose values are to be determined \n",
    "    '''\n",
    "    target = y[0]\n",
    "    \n",
    "    #model.eval()\n",
    "\n",
    "    # Gaussian process with Matérn kernel as surrogate model\n",
    "    m52 = ConstantKernel(1.0) * Matern(length_scale=1.0, nu=2.5)\n",
    "    gpr = GaussianProcessRegressor(kernel=m52)\n",
    "    gpr_h = GaussianProcessRegressor(kernel=m52)\n",
    "\n",
    "    # Initialize samples\n",
    "    x_sample = np.array(x_init).reshape(1, -1)\n",
    "    y_sample = np.array(y)\n",
    "    h_sample = np.array(h)\n",
    "    \n",
    "\n",
    "    for i in range(n_iter):\n",
    "        # Update Gaussian process with existing samples\n",
    "        gpr.fit(x_sample, y_sample)\n",
    "        gpr_h.fit(x_sample, h_sample)\n",
    "\n",
    "        # Obtain next sampling point from the acquisition function (expected_improvement)\n",
    "        x_next = propose_location(expected_improvement, x_sample, y_sample, gpr, gpr_h, bounds)\n",
    "        x_next = x_next.reshape(1,-1)\n",
    "        x_next = list(x_next[0])\n",
    "        x = x_next\n",
    "        #x.extend(x_next)                        this commented out part was for the case where the first few x_i in\n",
    "#                                                a_1x_1+a2x_2 +...... = y was fixed.\n",
    "\n",
    "\n",
    "        # Obtain next noisy sample from the objective function\n",
    "        y_next = objective(x, target)\n",
    "        y_next = y_next.tolist()\n",
    "        \n",
    "        # Obtain next hidden constraint \n",
    "        h_next = hidden(x)\n",
    "        #h_next = h_next.tolist()\n",
    "        \n",
    "        # Add sample to previous samples\n",
    "        x_sample = np.vstack((x_sample, x_next))\n",
    "        y_sample = np.vstack((y_sample, y_next))\n",
    "        h_sample = np.vstack((h_sample, h_next))\n",
    "        \n",
    "        print('New sampled input : {}, observed output {}, constraint {}'.format(x_next, y_next, h_next))\n",
    "        tolerance = 0.5\n",
    "        change = np.linalg.norm(x_sample[len(x_sample)-1]-x_sample[len(x_sample)-2],2 )\n",
    "        #print(change)\n",
    "        \n",
    "        ######################################\n",
    "        #TODO @ipsi : We have a budget n_iter = 100, why are we stopping before that ?\n",
    "        ######################################\n",
    "        \n",
    "        if change < tolerance:\n",
    "            \n",
    "            print('\\nAfter {} iterations, minimum objective value achieved {}'.format(i, np.min(y_sample)))\n",
    "            print('\\nOptimal input {}'.format(x_sample[np.argmin(y_sample)]))\n",
    "            break\n",
    "#         if i != n_iter-1:                      this commented out part was for the case where the first few x_i in\n",
    "#                                                a_1x_1+a2x_2 +...... = y was fixed.\n",
    "\n",
    "#             x = x[:-3]\n",
    "                \n",
    "\n",
    "    #return x \n",
    "    \n",
    "    ######################################\n",
    "    #TODO @ipsi : why r u returning x? shouldn't it be like this \n",
    "    ######################################\n",
    "    \n",
    "    return x_sample[np.argmin(y_sample)]"
   ]
  },
  {
   "cell_type": "code",
   "execution_count": 119,
   "metadata": {},
   "outputs": [],
   "source": [
    "######################################\n",
    "#TODO @ipsi : Only \"one\" (n_init = 1) observation to start with ?\n",
    "######################################\n",
    "\n",
    "x_init = [0,1]\n",
    "y_init = [7.04]\n",
    "h_init = [1]\n",
    "\n",
    "# on changing the number of variables it will automatically detect from the dimension of the bounds\n",
    "limits = np.array([[-2,2],[-2,2]])"
   ]
  },
  {
   "cell_type": "code",
   "execution_count": 120,
   "metadata": {
    "scrolled": true
   },
   "outputs": [
    {
     "name": "stdout",
     "output_type": "stream",
     "text": [
      "New sampled input : [-1.1452246285278662, 2.0], observed output -7.330449257055733, constraint -1\n",
      "New sampled input : [-1.5510894170811027, 0.7078919463349713], observed output -9.434286887827234, constraint 1\n",
      "New sampled input : [-1.1444176732450624, 2.0], observed output -7.328835346490125, constraint -1\n",
      "New sampled input : [-1.2901742783990087, 2.0], observed output -7.620348556798017, constraint -1\n",
      "\n",
      "After 3 iterations, minimum objective value achieved -9.434286887827234\n",
      "\n",
      "Optimal input [-1.55108942  0.70789195]\n"
     ]
    }
   ],
   "source": [
    "output = bayes_opt(f, x_init, y_init, h_init, limits, 100)"
   ]
  },
  {
   "cell_type": "code",
   "execution_count": 121,
   "metadata": {},
   "outputs": [
    {
     "data": {
      "text/plain": [
       "array([-1.55108942,  0.70789195])"
      ]
     },
     "execution_count": 121,
     "metadata": {},
     "output_type": "execute_result"
    }
   ],
   "source": [
    "output"
   ]
  },
  {
   "cell_type": "code",
   "execution_count": null,
   "metadata": {},
   "outputs": [],
   "source": []
  }
 ],
 "metadata": {
  "kernelspec": {
   "display_name": "Python 3",
   "language": "python",
   "name": "python3"
  },
  "language_info": {
   "codemirror_mode": {
    "name": "ipython",
    "version": 3
   },
   "file_extension": ".py",
   "mimetype": "text/x-python",
   "name": "python",
   "nbconvert_exporter": "python",
   "pygments_lexer": "ipython3",
   "version": "3.6.9"
  }
 },
 "nbformat": 4,
 "nbformat_minor": 4
}
